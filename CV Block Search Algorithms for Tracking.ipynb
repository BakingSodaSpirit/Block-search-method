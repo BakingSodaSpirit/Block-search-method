{
 "cells": [
  {
   "cell_type": "code",
   "execution_count": 1,
   "metadata": {},
   "outputs": [],
   "source": [
    "import numpy\n",
    "import numpy as np\n",
    "from numpy.lib.stride_tricks import as_strided\n",
    "import argparse\n",
    "import cv2\n",
    "import time\n",
    "import math\n",
    "import copy"
   ]
  },
  {
   "cell_type": "code",
   "execution_count": 2,
   "metadata": {},
   "outputs": [],
   "source": [
    "imageTable = np.array([[178,228,14,164,246,210,82,79,14,157,230,154,145,204,28,178],\n",
    "                       [239,104,202,194,64,21,225,182,255,50,100,215,75,177,118,239],\n",
    "                       [216,155,78,195,38,3,105,101,92,172,179,24,21,43,172,216],\n",
    "                       [110,99,189,54,187,86,29,167,32,140,91,189,10,46,123,110],\n",
    "                       [28,172,166,157,34,35,18,118,74,241,119,88,146,92,212,28],\n",
    "                     [61,97,165,129,222,93,223,56,57,215,155, 242,102,121,249,61],\n",
    "                      [149,69,22,220,77,146,47,68,232,203, 16,221,150,65,225,149],\n",
    "                       [135,100,192,110,174,131,41,248,141,124,19,178,180,201,51,135],\n",
    "                     [251,117,102,31,57,161,146,123,244,161,61,51,41,33,158,251],\n",
    "                       [47,235,136,252,186,65,145,138,159,228,169,195,66,244,56,47],\n",
    "                       [165,63,194,127,53,79,3,21,85,8,185,41,212,141,38,165],\n",
    "                       [20,249,177,38,50,227,156,144,49,41,230,245,49,245,253,20],\n",
    "                       [195,121,21,95,197,243,116,230,235,4,86,204,191,148,150,195],\n",
    "                       [224,26,207,78,12,95,189,67,105,72,212,215,245,249,60,224],\n",
    "                       [5,8,7,98,233,176,124,251,220,129,82,236,222,137,7,5],\n",
    "                       [178,228,14,164,246,210,82,79,14,157,230,154,145,204,28,178]])\n",
    "searchTemplate = np.array([[123, 250,185],[170,24,20], [117,102,31]] )"
   ]
  },
  {
   "cell_type": "code",
   "execution_count": 3,
   "metadata": {},
   "outputs": [
    {
     "name": "stdout",
     "output_type": "stream",
     "text": [
      "(8, 8) 244\n"
     ]
    }
   ],
   "source": [
    "# find the value from the center\n",
    "def find_mid(input_img):\n",
    "    find_mid.middleindex=(input_img.shape[0]/2,input_img.shape[1]/2)\n",
    "    find_mid.middleindex=int(find_mid.middleindex[0]),int(find_mid.middleindex[1])\n",
    "    find_mid.midpoint=input_img[find_mid.middleindex]\n",
    "    print(find_mid.middleindex,find_mid.midpoint)\n",
    "find_mid(imageTable)"
   ]
  },
  {
   "cell_type": "markdown",
   "metadata": {},
   "source": [
    "**Full search**"
   ]
  },
  {
   "cell_type": "code",
   "execution_count": 4,
   "metadata": {},
   "outputs": [],
   "source": [
    "#For full search\n",
    "def fullsearch(input_image, template):\n",
    "    window_size = template.shape\n",
    "    y = as_strided(input_image,\n",
    "                    shape=(input_image.shape[0] - window_size[0] + 1,\n",
    "                           input_image.shape[1] - window_size[1] + 1,) +window_size,\n",
    "                           strides=input_image.strides * 2)\n",
    "    \n",
    "    # Compute the sum of squared differences using broadcasting.\n",
    "    ssd = ((y - template) ** 2).sum(axis=-1).sum(axis=-1)\n",
    "    minpoint=np.where(ssd==numpy.amin(ssd))\n",
    "    listOfCoordinates = list(zip(minpoint[0], minpoint[1]))\n",
    "    for cord in listOfCoordinates:\n",
    "        print(\"Block that has lowest ssd and the ssdvalue\")\n",
    "        print(y[cord],numpy.amin(ssd))"
   ]
  },
  {
   "cell_type": "code",
   "execution_count": 5,
   "metadata": {},
   "outputs": [
    {
     "name": "stdout",
     "output_type": "stream",
     "text": [
      "Block that has lowest ssd and the ssdvalue\n",
      "[[164 246 210]\n",
      " [194  64  21]\n",
      " [195  38   3]] 15463\n"
     ]
    }
   ],
   "source": [
    "fullsearch(imageTable, searchTemplate)"
   ]
  },
  {
   "cell_type": "code",
   "execution_count": 6,
   "metadata": {},
   "outputs": [],
   "source": [
    "def midmatrix(midpointindex,radius=0):\n",
    "    p1=midpointindex[0]-radius,midpointindex[1]+radius\n",
    "    p2=midpointindex[0],midpointindex[1]+radius\n",
    "    p3=midpointindex[0]+radius,midpointindex[1]+radius\n",
    "    p4=midpointindex[0]-radius,midpointindex[1]\n",
    "    p5=midpointindex\n",
    "    p6=midpointindex[0]+radius,midpointindex[1]\n",
    "    p7=midpointindex[0]-radius,midpointindex[1]-radius\n",
    "    p8=midpointindex[0],midpointindex[1]-4\n",
    "    p9=midpointindex[0]+radius,midpointindex[1]-radius\n",
    "    return p1,p2,p3,p4,p5,p6,p7,p8,p9\n",
    "def creatmatrix(inputmatrix,centerpoint):\n",
    "    pt1=centerpoint[0]-1,centerpoint[1]+1\n",
    "    value1=inputmatrix[pt1]\n",
    "    pt2=centerpoint[0],centerpoint[1]+1\n",
    "    value2=inputmatrix[pt2]\n",
    "    pt3=centerpoint[0]+1,centerpoint[1]+1\n",
    "    value3=inputmatrix[pt3]\n",
    "    pt4=centerpoint[0]-1,centerpoint[1]\n",
    "    value4=inputmatrix[pt4]\n",
    "    pt5=centerpoint\n",
    "    value5=inputmatrix[pt5]\n",
    "    pt6=centerpoint[0]+1,centerpoint[1]\n",
    "    value6=inputmatrix[pt6]\n",
    "    pt7=centerpoint[0]-1,centerpoint[1]-1\n",
    "    value7=inputmatrix[pt7]\n",
    "    pt8=centerpoint[0],centerpoint[1]-1\n",
    "    value8=inputmatrix[pt8]\n",
    "    pt9=centerpoint[0]+1,centerpoint[1]-1\n",
    "    value9=inputmatrix[pt9]\n",
    "    creatmatrix.matrix=np.array([[value1,value2,value3],[value4,value5,value6],[value7,value8,value9]])\n",
    "    return creatmatrix.matrix\n",
    "#Calculate the sum of square different\n",
    "def ssdcalc(img,template):\n",
    "    ssdcalc.ssd=0\n",
    "    height,width=searchTemplate.shape\n",
    "    for i in range(height):\n",
    "        for j in range(width):\n",
    "            diff = img[i][j] - template[i][j]\n",
    "            ssdcalc.ssd += diff * diff\n",
    "def stagecalulation(centerpoint,radius):\n",
    "    stagecalulation.midpointlist=[]\n",
    "    centerpoint=centerpoint\n",
    "    stagecalulation.midpointlist=midmatrix(centerpoint,radius=radius)\n",
    "    stagecalulation.ssdlist=[]\n",
    "    for i in range(9):\n",
    "        creatmatrix(imageTable,stagecalulation.midpointlist[i])\n",
    "        ssdcalc(creatmatrix.matrix,searchTemplate)\n",
    "        stagecalulation.ssdlist.append(ssdcalc.ssd)"
   ]
  },
  {
   "cell_type": "markdown",
   "metadata": {},
   "source": [
    "**Three step search**"
   ]
  },
  {
   "cell_type": "code",
   "execution_count": 7,
   "metadata": {},
   "outputs": [
    {
     "name": "stdout",
     "output_type": "stream",
     "text": [
      "Search result:Best match in the Imagetemplate and the midpoint of the matrix\n",
      "[[140 241 215]\n",
      " [ 32  74  57]\n",
      " [167 118  56]] (4, 8)\n"
     ]
    }
   ],
   "source": [
    "stage=[1,2]\n",
    "radius=4\n",
    "#first stage\n",
    "midmatrix(find_mid.middleindex,radius=4)\n",
    "stagecalulation(centerpoint=find_mid.middleindex,radius=4)\n",
    "minlist_pos=stagecalulation.ssdlist.index(min(stagecalulation.ssdlist))\n",
    "minlist_value=(min(stagecalulation.ssdlist))\n",
    "#second and third stage\n",
    "for i in stage:\n",
    "    radisus=radius/2\n",
    "    midmatrix(stagecalulation.midpointlist[minlist_pos],radius=radius)\n",
    "    stagecalulation(centerpoint=stagecalulation.midpointlist[minlist_pos],radius=radius)\n",
    "    minlist_pos=stagecalulation.ssdlist.index(min(stagecalulation.ssdlist))\n",
    "    minlist_value=(min(stagecalulation.ssdlist))\n",
    "    \n",
    "#The bestpoint has been found at stage3 at index 4 of 3x3 array\n",
    "#Best match in the Imagetemplate and the midpoint of that matrix\n",
    "print('Search result:Best match in the Imagetemplate and the midpoint of the matrix')\n",
    "print(creatmatrix(imageTable,stagecalulation.midpointlist[minlist_pos]),stagecalulation.midpointlist[minlist_pos])"
   ]
  },
  {
   "cell_type": "markdown",
   "metadata": {},
   "source": [
    "**Four step search**"
   ]
  },
  {
   "cell_type": "code",
   "execution_count": 8,
   "metadata": {},
   "outputs": [
    {
     "name": "stdout",
     "output_type": "stream",
     "text": [
      "Search result:Best match in the Imagetemplate and the midpoint of the matrix\n",
      "[[140 241 215]\n",
      " [ 32  74  57]\n",
      " [167 118  56]] (4, 8)\n"
     ]
    }
   ],
   "source": [
    "stage=[1,2]\n",
    "radius=2\n",
    "#first stage\n",
    "stagecalulation(centerpoint=find_mid.middleindex,radius=4)\n",
    "minlist_pos=stagecalulation.ssdlist.index(min(stagecalulation.ssdlist))\n",
    "minlist_value=(min(stagecalulation.ssdlist))\n",
    "#second and third stage\n",
    "for i in stage:\n",
    "    midmatrix(stagecalulation.midpointlist[minlist_pos],radius=radius)\n",
    "    stagecalulation(centerpoint=stagecalulation.midpointlist[minlist_pos],radius=radius)\n",
    "    minlist_pos=stagecalulation.ssdlist.index(min(stagecalulation.ssdlist))\n",
    "    minlist_value=(min(stagecalulation.ssdlist))\n",
    "\n",
    "#The bestpoint has been found at stage4 at index 4 of 3x3 array\n",
    "#Best match in the Imagetemplate and the midpoint of that matrix\n",
    "print('Search result:Best match in the Imagetemplate and the midpoint of the matrix')\n",
    "print(creatmatrix(imageTable,stagecalulation.midpointlist[minlist_pos]),stagecalulation.midpointlist[minlist_pos])"
   ]
  },
  {
   "cell_type": "markdown",
   "metadata": {},
   "source": [
    "**Diamond Search**"
   ]
  },
  {
   "cell_type": "code",
   "execution_count": 9,
   "metadata": {},
   "outputs": [],
   "source": [
    "def midmatrix_dimond(midpointindex):\n",
    "    p1=midpointindex[0],midpointindex[1]+2\n",
    "    p2=midpointindex[0]-1,midpointindex[1]+1\n",
    "    p3=midpointindex[0]+1,midpointindex[1]+1\n",
    "    p4=midpointindex[0]-2,midpointindex[1]\n",
    "    p5=midpointindex\n",
    "    p6=midpointindex[0]+2,midpointindex[1]\n",
    "    p7=midpointindex[0]-1,midpointindex[1]-1\n",
    "    p8=midpointindex[0]+1,midpointindex[1]-1\n",
    "    p9=midpointindex[0],midpointindex[1]-2\n",
    "    return p1,p2,p3,p4,p5,p6,p7,p8,p9\n",
    "\n",
    "def stagecalulation_dimond(centerpoint):\n",
    "    stagecalulation_dimond.midpointlist=[]\n",
    "    centerpoint=centerpoint\n",
    "    stagecalulation_dimond.midpointlist=midmatrix_dimond(centerpoint)\n",
    "    stagecalulation_dimond.ssdlist=[]\n",
    "    for i in range(9):\n",
    "        creatmatrix(imageTable,stagecalulation_dimond.midpointlist[i])\n",
    "        ssdcalc(creatmatrix.matrix,searchTemplate)\n",
    "        stagecalulation_dimond.ssdlist.append(ssdcalc.ssd)\n",
    "        \n",
    "#Fourth stage\n",
    "#Redefind the function as 4th stage has different matrix comp\n",
    "def midmatrix_dimond_4thstage(midpointindex):\n",
    "    p1=midpointindex[0],midpointindex[1]+1\n",
    "    p2=midpointindex[0]-1,midpointindex[1]+1\n",
    "    p3=midpointindex\n",
    "    p4=midpointindex[0]+1,midpointindex[1]\n",
    "    p5=midpointindex[0],midpointindex[1]-1\n",
    "    return p1,p2,p3,p4,p5\n",
    "def stagecalulation_dimond_4thstage(centerpoint):\n",
    "    stagecalulation_dimond_4thstage.midpointlist=[]\n",
    "    centerpoint=centerpoint\n",
    "    stagecalulation_dimond_4thstage.midpointlist=midmatrix_dimond_4thstage(centerpoint)\n",
    "    stagecalulation_dimond_4thstage.ssdlist=[]\n",
    "    for i in range(5):\n",
    "        creatmatrix(imageTable,stagecalulation_dimond_4thstage.midpointlist[i])\n",
    "        ssdcalc(creatmatrix.matrix,searchTemplate)\n",
    "        stagecalulation_dimond_4thstage.ssdlist.append(ssdcalc.ssd)"
   ]
  },
  {
   "cell_type": "code",
   "execution_count": 10,
   "metadata": {},
   "outputs": [
    {
     "name": "stdout",
     "output_type": "stream",
     "text": [
      "Search result:Best match in the Imagetemplate and the midpoint of the matrix\n",
      "[[244 159  85]\n",
      " [123 138  21]\n",
      " [146 145   3]] (9, 7)\n"
     ]
    }
   ],
   "source": [
    "dim_stage=[1,2]\n",
    "#first stage\n",
    "stagecalulation_dimond(centerpoint=find_mid.middleindex)\n",
    "minlist_pos_dim=stagecalulation_dimond.ssdlist.index(min(stagecalulation_dimond.ssdlist))\n",
    "minlist_value_dim=(min(stagecalulation_dimond.ssdlist))\n",
    "#second and third stage\n",
    "for i in dim_stage:\n",
    "    stagecalulation_dimond(centerpoint=stagecalulation_dimond.midpointlist[minlist_pos_dim])\n",
    "    minlist_pos_dim=stagecalulation_dimond.ssdlist.index(min(stagecalulation_dimond.ssdlist))\n",
    "    minlist_value_dim=(min(stagecalulation_dimond.ssdlist))\n",
    "#Fourth stage\n",
    "stagecalulation_dimond_4thstage(centerpoint=stagecalulation_dimond.midpointlist[minlist_pos_dim])\n",
    "minlist_pos_dim=stagecalulation_dimond_4thstage.ssdlist.index(min(stagecalulation_dimond_4thstage.ssdlist))\n",
    "minlist_value_dim=(min(stagecalulation_dimond_4thstage.ssdlist))\n",
    "\n",
    "##The bestpoint has been found at stage4 at index 2 of 3x3 array\n",
    "#Best match in the Imagetemplate and the midpoint of that matrix\n",
    "print('Search result:Best match in the Imagetemplate and the midpoint of the matrix')\n",
    "print(creatmatrix(imageTable,stagecalulation_dimond_4thstage.midpointlist[minlist_pos_dim]),stagecalulation_dimond_4thstage.midpointlist[minlist_pos_dim])"
   ]
  },
  {
   "cell_type": "markdown",
   "metadata": {},
   "source": [
    "**Hexagon Block Search (HEXBS)**"
   ]
  },
  {
   "cell_type": "code",
   "execution_count": 11,
   "metadata": {},
   "outputs": [],
   "source": [
    "def midmatrix_HEXBS(midpointindex):\n",
    "    p1=midpointindex[0]-1,midpointindex[1]+2\n",
    "    p2=midpointindex[0]+1,midpointindex[1]+2\n",
    "    p3=midpointindex[0]-2,midpointindex[1]\n",
    "    p4=midpointindex\n",
    "    p5=midpointindex[0]+2,midpointindex[1]\n",
    "    p6=midpointindex[0]-1,midpointindex[1]-2\n",
    "    p7=midpointindex[0]+1,midpointindex[1]-2\n",
    "    return p1,p2,p3,p4,p5,p6,p7\n",
    "\n",
    "def stagecalulation_HEXBS(centerpoint):\n",
    "    stagecalulation_HEXBS.midpointlist=[]\n",
    "    centerpoint=centerpoint\n",
    "    stagecalulation_HEXBS.midpointlist=midmatrix_HEXBS(centerpoint)\n",
    "    stagecalulation_HEXBS.ssdlist=[]\n",
    "    for i in range(7):\n",
    "        creatmatrix(imageTable,stagecalulation_HEXBS.midpointlist[i])\n",
    "        ssdcalc(creatmatrix.matrix,searchTemplate)\n",
    "        stagecalulation_HEXBS.ssdlist.append(ssdcalc.ssd)\n",
    "#Stage 4\n",
    "#Redefind the function as 4th stage has different matrix comp\n",
    "def midmatrix_HEXBS_4thstage(midpointindex):\n",
    "    p1=midpointindex[0],midpointindex[1]+1\n",
    "    p2=midpointindex[0]-1,midpointindex[1]+1\n",
    "    p3=midpointindex\n",
    "    p4=midpointindex[0]+1,midpointindex[1]\n",
    "    p5=midpointindex[0],midpointindex[1]-1\n",
    "    return p1,p2,p3,p4,p5\n",
    "def stagecalulation_HEXBS_4thstage(centerpoint):\n",
    "    stagecalulation_HEXBS_4thstage.midpointlist=[]\n",
    "    centerpoint=centerpoint\n",
    "    stagecalulation_HEXBS_4thstage.midpointlist=midmatrix_HEXBS_4thstage(centerpoint)\n",
    "    stagecalulation_HEXBS_4thstage.ssdlist=[]\n",
    "    for i in range(5):\n",
    "        creatmatrix(imageTable,stagecalulation_HEXBS_4thstage.midpointlist[i])\n",
    "        ssdcalc(creatmatrix.matrix,searchTemplate)\n",
    "        stagecalulation_HEXBS_4thstage.ssdlist.append(ssdcalc.ssd)"
   ]
  },
  {
   "cell_type": "code",
   "execution_count": 12,
   "metadata": {},
   "outputs": [
    {
     "name": "stdout",
     "output_type": "stream",
     "text": [
      "Search result:Best match in the Imagetemplate and the midpoint of the matrix\n",
      "[[ 68 248 123]\n",
      " [ 47  41 146]\n",
      " [146 131 161]] (7, 6)\n"
     ]
    }
   ],
   "source": [
    "HEXBS_stage=[1,2]\n",
    "#first stage\n",
    "stagecalulation_HEXBS(centerpoint=find_mid.middleindex)\n",
    "minlist_pos_HEXBS=stagecalulation_HEXBS.ssdlist.index(min(stagecalulation_HEXBS.ssdlist))\n",
    "minlist_value_HEXBS=(min(stagecalulation_HEXBS.ssdlist))\n",
    "#second and third stage\n",
    "for i in HEXBS_stage:\n",
    "    stagecalulation_HEXBS(centerpoint=stagecalulation_HEXBS.midpointlist[minlist_pos_HEXBS])\n",
    "    minlist_pos_HEXBS=stagecalulation_HEXBS.ssdlist.index(min(stagecalulation_HEXBS.ssdlist))\n",
    "    minlist_value_HEXBS=(min(stagecalulation_HEXBS.ssdlist))\n",
    "#Fourth stage\n",
    "stagecalulation_HEXBS_4thstage(centerpoint=stagecalulation_HEXBS.midpointlist[minlist_pos_HEXBS])\n",
    "minlist_pos_HEXBS=stagecalulation_HEXBS_4thstage.ssdlist.index(min(stagecalulation_HEXBS_4thstage.ssdlist))\n",
    "minlist_value_HEXBS=min(stagecalulation_HEXBS_4thstage.ssdlist)\n",
    "\n",
    "##The bestpoint has been found at stage4 at index 2 of 3x3 array\n",
    "#Best match in the Imagetemplate and the midpoint of that matrix\n",
    "print('Search result:Best match in the Imagetemplate and the midpoint of the matrix')\n",
    "print(creatmatrix(imageTable,stagecalulation_HEXBS_4thstage.midpointlist[minlist_pos_HEXBS]),stagecalulation_HEXBS_4thstage.midpointlist[minlist_pos_HEXBS])"
   ]
  },
  {
   "cell_type": "code",
   "execution_count": null,
   "metadata": {},
   "outputs": [],
   "source": []
  }
 ],
 "metadata": {
  "kernelspec": {
   "display_name": "Python 3",
   "language": "python",
   "name": "python3"
  },
  "language_info": {
   "codemirror_mode": {
    "name": "ipython",
    "version": 3
   },
   "file_extension": ".py",
   "mimetype": "text/x-python",
   "name": "python",
   "nbconvert_exporter": "python",
   "pygments_lexer": "ipython3",
   "version": "3.8.6"
  }
 },
 "nbformat": 4,
 "nbformat_minor": 4
}
